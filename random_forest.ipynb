{
 "cells": [
  {
   "cell_type": "code",
   "execution_count": null,
   "metadata": {},
   "outputs": [],
   "source": [
    "import pandas as pd\n",
    "input_data=pd.read_csv('train.csv', index_col=0)\n",
    "X_submission=pd.get_dummies(pd.read_csv('test.csv', index_col=0))"
   ]
  },
  {
   "cell_type": "markdown",
   "metadata": {},
   "source": [
    "### Let's see what the data looks like"
   ]
  },
  {
   "cell_type": "code",
   "execution_count": null,
   "metadata": {},
   "outputs": [],
   "source": [
    "input_data.head()"
   ]
  },
  {
   "cell_type": "markdown",
   "metadata": {},
   "source": [
    "####  Are there any missing data?"
   ]
  },
  {
   "cell_type": "code",
   "execution_count": null,
   "metadata": {},
   "outputs": [],
   "source": [
    "input_data.isnull().sum()"
   ]
  },
  {
   "cell_type": "markdown",
   "metadata": {},
   "source": [
    "##### One problem has been solved by itself  :)\n",
    "\n",
    "#### How the types are distributed ?"
   ]
  },
  {
   "cell_type": "code",
   "execution_count": null,
   "metadata": {},
   "outputs": [],
   "source": [
    "input_data.type.value_counts()"
   ]
  },
  {
   "cell_type": "markdown",
   "metadata": {},
   "source": [
    "## Data Preprocessing\n",
    "\n",
    "### Encoding class labels"
   ]
  },
  {
   "cell_type": "code",
   "execution_count": null,
   "metadata": {},
   "outputs": [],
   "source": [
    "from sklearn.preprocessing import LabelEncoder\n",
    "\n",
    "class_le = LabelEncoder()\n",
    "le_data=input_data\n",
    "le_data['type']=class_le.fit_transform(input_data['type'])\n",
    "le_data.head()"
   ]
  },
  {
   "cell_type": "markdown",
   "metadata": {},
   "source": [
    "### I Partitioning a dataset in training and test sets "
   ]
  },
  {
   "cell_type": "code",
   "execution_count": null,
   "metadata": {},
   "outputs": [],
   "source": [
    "from sklearn.model_selection import train_test_split\n",
    "\n",
    "X_org, y_org = le_data.iloc[:,:5], le_data.iloc[:,-1]\n",
    "X_org_train, X_org_test, y_org_train, y_org_test = train_test_split(X_org, y_org, test_size=0.3)"
   ]
  },
  {
   "cell_type": "markdown",
   "metadata": {},
   "source": [
    "### Encoding nominal feature"
   ]
  },
  {
   "cell_type": "code",
   "execution_count": null,
   "metadata": {},
   "outputs": [],
   "source": [
    "le_data=pd.get_dummies(le_data)\n",
    "typ=le_data['type']\n",
    "le_data.drop(columns='type', inplace=True)\n",
    "le_data['type']=typ\n",
    "le_data.head()"
   ]
  },
  {
   "cell_type": "markdown",
   "metadata": {},
   "source": [
    "### II Partitioning a dataset in training and test sets"
   ]
  },
  {
   "cell_type": "code",
   "execution_count": null,
   "metadata": {},
   "outputs": [],
   "source": [
    "X, y = le_data.iloc[:,:10], le_data.iloc[:,-1]\n",
    "X_train, X_test, y_train, y_test = train_test_split(X, y, test_size=0.3)"
   ]
  },
  {
   "cell_type": "code",
   "execution_count": null,
   "metadata": {},
   "outputs": [],
   "source": [
    "y_train.value_counts()"
   ]
  },
  {
   "cell_type": "markdown",
   "metadata": {},
   "source": [
    "## Definition of some useful functions"
   ]
  },
  {
   "cell_type": "code",
   "execution_count": null,
   "metadata": {},
   "outputs": [],
   "source": [
    "import matplotlib.pyplot as plt\n",
    "%matplotlib inline\n",
    "\n",
    "# Cross validation\n",
    "from sklearn.model_selection import cross_val_score\n",
    "import numpy as np\n",
    "\n",
    "def stratified_k_fold_val(estimator, X, y, cv=10):\n",
    "    scores = cross_val_score(estimator=estimator,\n",
    "                             X=X,\n",
    "                             y=y,\n",
    "                             cv=cv,\n",
    "                             n_jobs=-1)\n",
    "    \n",
    "    mean = np.mean(scores)\n",
    "    std = np.std(scores)\n",
    "    print('mean CV accuracy %.3f, std CV %.3f' % (mean, std))\n",
    "    \n",
    "    \n",
    "# Validation curve\n",
    "from sklearn.model_selection import validation_curve\n",
    "\n",
    "def plot_validation_curve(estimator, param_name, param_range, X, y, cv=10):\n",
    "\n",
    "    train_scores, test_scores = validation_curve(estimator=estimator,\n",
    "                                                 X=X,\n",
    "                                                 y=y,\n",
    "                                                 param_name=param_name,\n",
    "                                                 param_range=param_range,\n",
    "                                                 cv=cv,\n",
    "                                                 n_jobs=-1)\n",
    "\n",
    "    train_mean = np.mean(train_scores, axis=1)\n",
    "    train_std = np.std(train_scores, axis=1)\n",
    "    test_mean = np.mean(test_scores, axis=1)\n",
    "    test_std = np.std(test_scores, axis=1)\n",
    "    \n",
    "    plt.plot(param_range, train_mean, color='blue', marker='o', markersize=5, label='training accuracy')\n",
    "    plt.fill_between(param_range, train_mean + train_std, train_mean - train_std, alpha=0.15, color='blue')\n",
    "    plt.plot(param_range, test_mean, color='green', linestyle='--', marker='s', markersize=5, label='validation accuracy')\n",
    "    plt.fill_between(param_range, test_mean + test_std, test_mean - test_std, alpha=0.15, color='green')\n",
    "    plt.grid()\n",
    "    plt.xscale('log')\n",
    "    plt.legend(loc='lower right')\n",
    "    plt.xlabel('Parameter')\n",
    "    plt.ylabel('Accuracy')\n",
    "    plt.ylim([0.2, 1.0])\n",
    "    plt.show()\n",
    "\n",
    "    \n",
    "# Learning curve\n",
    "from sklearn.model_selection import learning_curve\n",
    "\n",
    "def plot_learning_curve(estimator, X, y, cv=10):\n",
    "\n",
    "    train_sizes, train_scores, test_scores = learning_curve(estimator=estimator,\n",
    "                                                            X=X,\n",
    "                                                            y=y,\n",
    "                                                            train_sizes=np.linspace(0.1, 1.0, 10),\n",
    "                                                            cv=cv,\n",
    "                                                            n_jobs=-1,\n",
    "                                                            random_state=1)\n",
    "\n",
    "    train_mean=np.mean(train_scores, axis=1)\n",
    "    train_std=np.std(train_scores, axis=1)\n",
    "    test_mean=np.mean(test_scores, axis=1)\n",
    "    test_std=np.std(test_scores, axis=1)\n",
    "    \n",
    "    plt.plot(train_sizes, train_mean, color='blue', marker='o', markersize=5, label='training accuracy')\n",
    "    plt.fill_between(train_sizes, train_mean + train_std, train_mean - train_std, alpha=0.15, color='blue')\n",
    "    plt.plot(train_sizes, test_mean, color='green', linestyle='--', marker='s', markersize=5, label='validation accuracy')\n",
    "    plt.fill_between(train_sizes, test_mean + test_std, test_mean - test_std, alpha=0.15, color='green')\n",
    "    plt.grid()\n",
    "    plt.xlabel('Number of training samples')\n",
    "    plt.ylabel('Accuracy')\n",
    "    plt.legend(loc='lower right')\n",
    "    plt.ylim([0.2, 1.0])\n",
    "    plt.show()\n",
    "    \n",
    "\n",
    "# recursive elimination\n",
    "from sklearn.model_selection import StratifiedKFold\n",
    "from sklearn.feature_selection import RFECV\n",
    "\n",
    "\n",
    "def recursive_elimination(estimator, X, y, step=1, cv=3):\n",
    "    \n",
    "    rfecv = RFECV(estimator=estimator, step=step, cv=StratifiedKFold(cv), scoring='accuracy')\n",
    "    rfecv.fit(X, y)\n",
    "    \n",
    "    # Plot number of features VS. cross-validation scores\n",
    "    plt.figure()\n",
    "    plt.xlabel(\"Number of features selected\")\n",
    "    plt.ylabel(\"Cross validation score (nb of correct classifications)\")\n",
    "    plt.plot(range(1, len(rfecv.grid_scores_) + 1), rfecv.grid_scores_)\n",
    "    plt.show()\n",
    "    \n",
    "    print(\"Optimal number of features : %d\" % rfecv.n_features_)\n",
    "    print('ranking: %s' % (rfecv.ranking_))\n",
    "\n",
    "    \n",
    "# grid search    \n",
    "from sklearn.model_selection import GridSearchCV\n",
    "\n",
    "def grid_search(X, y, X_te, y_te, n_estimators, max_features, max_depth):\n",
    "    \n",
    "    rf = RandomForestClassifier(criterion='entropy',\n",
    "                                n_jobs=-1)\n",
    "\n",
    "    param_grid = [{'n_estimators':n_estimators,\n",
    "                   'max_features':max_features,\n",
    "                   'max_depth':max_depth}]\n",
    "                     \n",
    "    gs = GridSearchCV(estimator=rf,\n",
    "                      param_grid=param_grid,\n",
    "                      scoring='accuracy',\n",
    "                      cv=10,\n",
    "                      n_jobs=-1)\n",
    "\n",
    "    gs_params = gs.fit(X, y)\n",
    "\n",
    "    rf.n_estimators = gs_params.best_params_['n_estimators']\n",
    "    rf.max_features = gs_params.best_params_['max_features']   \n",
    "    rf.max_depth = gs_params.best_params_['max_depth']\n",
    "   \n",
    "    print('best params:', gs_params.best_params_)\n",
    "    print('best score:', gs_params.best_score_)\n",
    "    stratified_k_fold_val(rf, X, y)\n",
    "    rf.fit(X, y)\n",
    "    print('test set score:', rf.score(X_te, y_te))"
   ]
  },
  {
   "cell_type": "markdown",
   "metadata": {},
   "source": [
    "# Classifiers\n",
    "\n",
    "## Random forest"
   ]
  },
  {
   "cell_type": "code",
   "execution_count": null,
   "metadata": {},
   "outputs": [],
   "source": [
    "from sklearn.ensemble import RandomForestClassifier\n",
    "from sklearn.pipeline import Pipeline\n",
    "\n",
    "n_estimators=[5, 10, 20, 50, 70]\n",
    "max_features=[1, 2, 3, 4, 5, 6, 7]\n",
    "max_depth=[1, 2, 3 , 4]"
   ]
  },
  {
   "cell_type": "markdown",
   "metadata": {},
   "source": [
    "### Grid search"
   ]
  },
  {
   "cell_type": "code",
   "execution_count": null,
   "metadata": {},
   "outputs": [],
   "source": [
    "grid_search(X_train, y_train, X_test, y_test, n_estimators, max_features, max_depth)"
   ]
  },
  {
   "cell_type": "markdown",
   "metadata": {},
   "source": [
    "### Def random forest"
   ]
  },
  {
   "cell_type": "code",
   "execution_count": null,
   "metadata": {},
   "outputs": [],
   "source": [
    "rf = RandomForestClassifier(criterion='entropy',\n",
    "                            n_estimators=50,\n",
    "                            max_features=3,\n",
    "                            max_depth=4,\n",
    "                            n_jobs=-1,\n",
    "                            random_state=1)"
   ]
  },
  {
   "cell_type": "markdown",
   "metadata": {},
   "source": [
    "### Depth - best params"
   ]
  },
  {
   "cell_type": "code",
   "execution_count": null,
   "metadata": {},
   "outputs": [],
   "source": [
    "plot_validation_curve(rf , 'max_depth', max_depth, X_train, y_train, cv=10)"
   ]
  },
  {
   "cell_type": "markdown",
   "metadata": {},
   "source": [
    "### Features - best params"
   ]
  },
  {
   "cell_type": "code",
   "execution_count": null,
   "metadata": {},
   "outputs": [],
   "source": [
    "rf.max_depth=3\n",
    "\n",
    "plot_validation_curve(rf, 'max_features', max_features, X_train, y_train, cv=10)"
   ]
  },
  {
   "cell_type": "markdown",
   "metadata": {},
   "source": [
    "### N estimators - best params"
   ]
  },
  {
   "cell_type": "code",
   "execution_count": null,
   "metadata": {},
   "outputs": [],
   "source": [
    "rf.max_features=3\n",
    "\n",
    "plot_validation_curve(rf, 'n_estimators', n_estimators, X_train, y_train, cv=10)"
   ]
  },
  {
   "cell_type": "markdown",
   "metadata": {},
   "source": [
    "### Learning curve with best params - clasic"
   ]
  },
  {
   "cell_type": "code",
   "execution_count": null,
   "metadata": {},
   "outputs": [],
   "source": [
    "rf.n_estimators=10\n",
    "\n",
    "plot_learning_curve(rf, X_train, y_train)"
   ]
  },
  {
   "cell_type": "markdown",
   "metadata": {},
   "source": [
    "### CV"
   ]
  },
  {
   "cell_type": "code",
   "execution_count": null,
   "metadata": {},
   "outputs": [],
   "source": [
    "stratified_k_fold_val(rf, X_train, y_train)"
   ]
  },
  {
   "cell_type": "markdown",
   "metadata": {},
   "source": [
    "### Test"
   ]
  },
  {
   "cell_type": "code",
   "execution_count": null,
   "metadata": {},
   "outputs": [],
   "source": [
    "rf.fit(X_train, y_train)\n",
    "rf.score(X_test, y_test)"
   ]
  },
  {
   "cell_type": "code",
   "execution_count": null,
   "metadata": {},
   "outputs": [],
   "source": [
    "rf.feature_importances_"
   ]
  },
  {
   "cell_type": "markdown",
   "metadata": {},
   "source": [
    "### Submission - clasic"
   ]
  },
  {
   "cell_type": "code",
   "execution_count": null,
   "metadata": {},
   "outputs": [],
   "source": [
    "rf.fit(X, y)\n",
    "\n",
    "predict = class_le.inverse_transform(rf.predict(X_submission))\n",
    "pd.Series(predict, index=X_submission.index, name='type').to_csv('rf.csv', header=True, index_label='id')"
   ]
  }
 ],
 "metadata": {
  "kernelspec": {
   "display_name": "Python 3",
   "language": "python",
   "name": "python3"
  },
  "language_info": {
   "codemirror_mode": {
    "name": "ipython",
    "version": 3
   },
   "file_extension": ".py",
   "mimetype": "text/x-python",
   "name": "python",
   "nbconvert_exporter": "python",
   "pygments_lexer": "ipython3",
   "version": "3.6.5"
  }
 },
 "nbformat": 4,
 "nbformat_minor": 2
}
