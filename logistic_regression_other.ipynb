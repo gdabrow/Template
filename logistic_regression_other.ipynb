{
 "cells": [
  {
   "cell_type": "code",
   "execution_count": null,
   "metadata": {},
   "outputs": [],
   "source": [
    "import pandas as pd\n",
    "input_data=pd.read_csv('train.csv', index_col=0)\n",
    "X_submission=pd.get_dummies(pd.read_csv('test.csv', index_col=0))"
   ]
  },
  {
   "cell_type": "markdown",
   "metadata": {},
   "source": [
    "### Let's see what the data looks like"
   ]
  },
  {
   "cell_type": "code",
   "execution_count": null,
   "metadata": {},
   "outputs": [],
   "source": [
    "input_data.head()"
   ]
  },
  {
   "cell_type": "markdown",
   "metadata": {},
   "source": [
    "####  Are there any missing data?"
   ]
  },
  {
   "cell_type": "code",
   "execution_count": null,
   "metadata": {},
   "outputs": [],
   "source": [
    "input_data.isnull().sum()"
   ]
  },
  {
   "cell_type": "markdown",
   "metadata": {},
   "source": [
    "##### One problem has been solved by itself  :)\n",
    "\n",
    "#### How the types are distributed ?"
   ]
  },
  {
   "cell_type": "code",
   "execution_count": null,
   "metadata": {},
   "outputs": [],
   "source": [
    "input_data.type.value_counts()"
   ]
  },
  {
   "cell_type": "markdown",
   "metadata": {},
   "source": [
    "## Data Preprocessing\n",
    "\n",
    "### Encoding class labels"
   ]
  },
  {
   "cell_type": "code",
   "execution_count": null,
   "metadata": {},
   "outputs": [],
   "source": [
    "from sklearn.preprocessing import LabelEncoder\n",
    "\n",
    "class_le = LabelEncoder()\n",
    "le_data=input_data\n",
    "le_data['type']=class_le.fit_transform(input_data['type'])\n",
    "le_data.head()"
   ]
  },
  {
   "cell_type": "markdown",
   "metadata": {},
   "source": [
    "### Encoding nominal feature"
   ]
  },
  {
   "cell_type": "code",
   "execution_count": null,
   "metadata": {},
   "outputs": [],
   "source": [
    "le_data=pd.get_dummies(le_data)\n",
    "typ=le_data['type']\n",
    "le_data.drop(columns='type', inplace=True)\n",
    "le_data['type']=typ\n",
    "le_data.head()"
   ]
  },
  {
   "cell_type": "markdown",
   "metadata": {},
   "source": [
    "### Partitioning a dataset in training and test sets"
   ]
  },
  {
   "cell_type": "code",
   "execution_count": null,
   "metadata": {},
   "outputs": [],
   "source": [
    "from sklearn.model_selection import train_test_split\n",
    "\n",
    "X, y = le_data.iloc[:,:10], le_data.iloc[:,-1]\n",
    "X_train, X_test, y_train, y_test = train_test_split(X, y, test_size=0.3)"
   ]
  },
  {
   "cell_type": "code",
   "execution_count": null,
   "metadata": {},
   "outputs": [],
   "source": [
    "y_train.value_counts()"
   ]
  },
  {
   "cell_type": "markdown",
   "metadata": {},
   "source": [
    "## Standardization"
   ]
  },
  {
   "cell_type": "code",
   "execution_count": null,
   "metadata": {},
   "outputs": [],
   "source": [
    "from sklearn.preprocessing import StandardScaler\n",
    "\n",
    "stdsc_1 = StandardScaler()\n",
    "X_train_stand = stdsc_1.fit_transform(X_train)\n",
    "X_test_stand = stdsc_1.transform(X_test)"
   ]
  },
  {
   "cell_type": "markdown",
   "metadata": {},
   "source": [
    "## Feature selection PCA"
   ]
  },
  {
   "cell_type": "code",
   "execution_count": null,
   "metadata": {},
   "outputs": [],
   "source": [
    "import matplotlib.pyplot as plt\n",
    "from sklearn.decomposition import PCA\n",
    "import numpy as np\n",
    "\n",
    "%matplotlib inline\n",
    "\n",
    "pca = PCA()\n",
    "X_train_pca = pca.fit_transform(X_train_stand)\n",
    "X_test_pca = pca.transform(X_test_stand)\n",
    "pca.explained_variance_ratio_\n",
    "\n",
    "plt.bar(range(1, X_train_pca.shape[1]+1), pca.explained_variance_ratio_, alpha=0.5, align='center')\n",
    "plt.step(range(1, X_train_pca.shape[1]+1), np.cumsum(pca.explained_variance_ratio_), where='mid')\n",
    "plt.ylabel('Explained variance ratio')\n",
    "plt.xlabel('Principal components')\n",
    "plt.show()\n"
   ]
  },
  {
   "cell_type": "markdown",
   "metadata": {},
   "source": [
    "## Linear Discriminant Analysis"
   ]
  },
  {
   "cell_type": "code",
   "execution_count": null,
   "metadata": {},
   "outputs": [],
   "source": [
    "from sklearn.discriminant_analysis import LinearDiscriminantAnalysis as LDA\n",
    "\n",
    "lda = LDA()\n",
    "X_train_lda = lda.fit_transform(X_train_stand, y_train)\n",
    "X_test_lda = lda.transform(X_test_stand)"
   ]
  },
  {
   "cell_type": "code",
   "execution_count": null,
   "metadata": {},
   "outputs": [],
   "source": [
    "lda.explained_variance_ratio_"
   ]
  },
  {
   "cell_type": "markdown",
   "metadata": {},
   "source": [
    "## Definition of some useful functions"
   ]
  },
  {
   "cell_type": "code",
   "execution_count": null,
   "metadata": {},
   "outputs": [],
   "source": [
    "# Cross validation\n",
    "from sklearn.model_selection import cross_val_score\n",
    "import numpy as np\n",
    "\n",
    "def stratified_k_fold_val(estimator, X, y, cv=10):\n",
    "    scores = cross_val_score(estimator=estimator,\n",
    "                             X=X,\n",
    "                             y=y,\n",
    "                             cv=cv,\n",
    "                             n_jobs=-1)\n",
    "    \n",
    "    mean = np.mean(scores)\n",
    "    std = np.std(scores)\n",
    "    print('mean CV accuracy %.3f, std CV %.3f' % (mean, std))\n",
    "    \n",
    "    \n",
    "# Validation curve\n",
    "from sklearn.model_selection import validation_curve\n",
    "\n",
    "def plot_validation_curve(estimator, param_name, param_range, X, y, cv=10):\n",
    "\n",
    "    train_scores, test_scores = validation_curve(estimator=estimator,\n",
    "                                                 X=X,\n",
    "                                                 y=y,\n",
    "                                                 param_name=param_name,\n",
    "                                                 param_range=param_range,\n",
    "                                                 cv=cv,\n",
    "                                                 n_jobs=-1)\n",
    "\n",
    "    train_mean = np.mean(train_scores, axis=1)\n",
    "    train_std = np.std(train_scores, axis=1)\n",
    "    test_mean = np.mean(test_scores, axis=1)\n",
    "    test_std = np.std(test_scores, axis=1)\n",
    "    \n",
    "    plt.plot(param_range, train_mean, color='blue', marker='o', markersize=5, label='training accuracy')\n",
    "    plt.fill_between(param_range, train_mean + train_std, train_mean - train_std, alpha=0.15, color='blue')\n",
    "    plt.plot(param_range, test_mean, color='green', linestyle='--', marker='s', markersize=5, label='validation accuracy')\n",
    "    plt.fill_between(param_range, test_mean + test_std, test_mean - test_std, alpha=0.15, color='green')\n",
    "    plt.grid()\n",
    "    plt.xscale('log')\n",
    "    plt.legend(loc='lower right')\n",
    "    plt.xlabel('Parameter')\n",
    "    plt.ylabel('Accuracy')\n",
    "    plt.ylim([0.2, 1.0])\n",
    "    plt.show()\n",
    "\n",
    "    \n",
    "# Learning curve\n",
    "from sklearn.model_selection import learning_curve\n",
    "\n",
    "def plot_learning_curve(estimator, X, y, cv=10):\n",
    "\n",
    "    train_sizes, train_scores, test_scores = learning_curve(estimator=estimator,\n",
    "                                                            X=X,\n",
    "                                                            y=y,\n",
    "                                                            train_sizes=np.linspace(0.1, 1.0, 10),\n",
    "                                                            cv=cv,\n",
    "                                                            n_jobs=-1,\n",
    "                                                            random_state=1)\n",
    "\n",
    "    train_mean=np.mean(train_scores, axis=1)\n",
    "    train_std=np.std(train_scores, axis=1)\n",
    "    test_mean=np.mean(test_scores, axis=1)\n",
    "    test_std=np.std(test_scores, axis=1)\n",
    "    \n",
    "    plt.plot(train_sizes, train_mean, color='blue', marker='o', markersize=5, label='training accuracy')\n",
    "    plt.fill_between(train_sizes, train_mean + train_std, train_mean - train_std, alpha=0.15, color='blue')\n",
    "    plt.plot(train_sizes, test_mean, color='green', linestyle='--', marker='s', markersize=5, label='validation accuracy')\n",
    "    plt.fill_between(train_sizes, test_mean + test_std, test_mean - test_std, alpha=0.15, color='green')\n",
    "    plt.grid()\n",
    "    plt.xlabel('Number of training samples')\n",
    "    plt.ylabel('Accuracy')\n",
    "    plt.legend(loc='lower right')\n",
    "    plt.ylim([0.2, 1.0])\n",
    "    plt.show()\n",
    "    \n",
    "\n",
    "# recursive elimination\n",
    "from sklearn.model_selection import StratifiedKFold\n",
    "from sklearn.feature_selection import RFECV\n",
    "\n",
    "\n",
    "def recursive_elimination(estimator, X, y, step=1, cv=3):\n",
    "    \n",
    "    rfecv = RFECV(estimator=estimator, step=step, cv=StratifiedKFold(cv), scoring='accuracy')\n",
    "    rfecv.fit(X, y)\n",
    "    \n",
    "    # Plot number of features VS. cross-validation scores\n",
    "    plt.figure()\n",
    "    plt.xlabel(\"Number of features selected\")\n",
    "    plt.ylabel(\"Cross validation score (nb of correct classifications)\")\n",
    "    plt.plot(range(1, len(rfecv.grid_scores_) + 1), rfecv.grid_scores_)\n",
    "    plt.show()\n",
    "    \n",
    "    print(\"Optimal number of features : %d\" % rfecv.n_features_)\n",
    "    print('ranking: %s' % (rfecv.ranking_))\n",
    "\n",
    "    \n",
    "# grid search    \n",
    "from sklearn.model_selection import GridSearchCV\n",
    "\n",
    "def grid_search(X, y, X_te, y_te, c, solver, multi_clas):\n",
    "    \n",
    "    lr = Pipeline([('scl', StandardScaler()),\n",
    "                   ('clf', LogisticRegression())])\n",
    "\n",
    "    param_grid = [{'clf__C':c,\n",
    "                   'clf__solver':solver,\n",
    "                   'clf__multi_class':multi_clas}]\n",
    "\n",
    "    gs = GridSearchCV(estimator=lr,\n",
    "                      param_grid=param_grid,\n",
    "                      scoring='accuracy',\n",
    "                      cv=10,\n",
    "                      n_jobs=-1)\n",
    "\n",
    "    gs_params = gs.fit(X, y)\n",
    "\n",
    "    lr.clf__C = gs_params.best_params_['clf__C']\n",
    "    lr.clf__solver = gs_params.best_params_['clf__solver']\n",
    "    lr.clf__multi_class = gs_params.best_params_['clf__multi_class']\n",
    "\n",
    "    print('best params:', gs_params.best_params_)\n",
    "    print('best score:', gs_params.best_score_)\n",
    "    stratified_k_fold_val(lr, X, y)\n",
    "    lr.fit(X, y)\n",
    "    print('test set score:', lr.score(X_te, y_te))"
   ]
  },
  {
   "cell_type": "markdown",
   "metadata": {},
   "source": [
    "# Classifiers\n",
    "\n",
    "## Logistic Regression"
   ]
  },
  {
   "cell_type": "code",
   "execution_count": null,
   "metadata": {},
   "outputs": [],
   "source": [
    "from sklearn.linear_model import LogisticRegression\n",
    "from sklearn.pipeline import Pipeline\n",
    "\n",
    "c = [0.001, 0.01, 0.1, 1.0, 10, 100]\n",
    "solver = ['newton-cg', 'lbfgs', 'sag', 'saga']\n",
    "multi_class = ['ovr', 'multinomial']"
   ]
  },
  {
   "cell_type": "markdown",
   "metadata": {},
   "source": [
    "## Clasic\n",
    "\n",
    "### Grid search - clasic"
   ]
  },
  {
   "cell_type": "code",
   "execution_count": null,
   "metadata": {},
   "outputs": [],
   "source": [
    "grid_search(X_train, y_train, X_test, y_test, c, solver, multi_class)"
   ]
  },
  {
   "cell_type": "markdown",
   "metadata": {},
   "source": [
    "### Recursive elimination with best params - clasic"
   ]
  },
  {
   "cell_type": "code",
   "execution_count": null,
   "metadata": {},
   "outputs": [],
   "source": [
    "re_clasic = LogisticRegression(C=0.1, multi_class='multinomial', solver='newton-cg')\n",
    "recursive_elimination(re_clasic, X_train_stand, y_train)"
   ]
  },
  {
   "cell_type": "markdown",
   "metadata": {},
   "source": [
    "### Elimination params and gs again - clasic"
   ]
  },
  {
   "cell_type": "code",
   "execution_count": null,
   "metadata": {},
   "outputs": [],
   "source": [
    "X_c = X_train.iloc[:,:4]\n",
    "X_te_c = X_test.iloc[:,:4]\n",
    "grid_search(X_c, y_train, X_te_c, y_test, c, solver, multi_class)"
   ]
  },
  {
   "cell_type": "markdown",
   "metadata": {},
   "source": [
    "### Learning curve with best params - clasic"
   ]
  },
  {
   "cell_type": "code",
   "execution_count": null,
   "metadata": {},
   "outputs": [],
   "source": [
    "clasic = Pipeline([('scl', StandardScaler()),\n",
    "                   ('clf', LogisticRegression(C=0.1, multi_class='multinomial', solver='newton-cg'))])\n",
    "\n",
    "plot_learning_curve(clasic, X_c, y_train)"
   ]
  },
  {
   "cell_type": "markdown",
   "metadata": {},
   "source": [
    "### Submission - clasic"
   ]
  },
  {
   "cell_type": "code",
   "execution_count": null,
   "metadata": {},
   "outputs": [],
   "source": [
    "X_c_all = X.iloc[:,:4]\n",
    "clasic.fit(X_c_all, y)\n",
    "X_c_sub = X_submission.iloc[:,:4]\n",
    "\n",
    "predict_c = class_le.inverse_transform(clasic.predict(X_c_sub))\n",
    "pd.Series(predict_c, index=X_submission.index, name='type').to_csv('lr_clasic.csv', header=True, index_label='id')"
   ]
  },
  {
   "cell_type": "markdown",
   "metadata": {},
   "source": [
    "### AdaBoost - clasic"
   ]
  },
  {
   "cell_type": "code",
   "execution_count": null,
   "metadata": {},
   "outputs": [],
   "source": [
    "from sklearn.ensemble import AdaBoostClassifier\n",
    "\n",
    "clasic_2 = LogisticRegression(C=0.1, multi_class='multinomial', solver='newton-cg')\n",
    "\n",
    "ada_boost_clasic = AdaBoostClassifier(base_estimator=clasic_2, n_estimators=10, random_state=1)\n",
    "stratified_k_fold_val(ada_boost_clasic, X_c, y_train)\n",
    "\n",
    "ada_boost_clasic.fit(X_c, y_train)\n",
    "print('test set score:', ada_boost_clasic.score(X_te_c, y_test))"
   ]
  },
  {
   "cell_type": "markdown",
   "metadata": {},
   "source": [
    "## PCA\n",
    "\n",
    "### Grid search - PCA"
   ]
  },
  {
   "cell_type": "code",
   "execution_count": null,
   "metadata": {},
   "outputs": [],
   "source": [
    "grid_search(X_train_pca, y_train, X_test_pca, y_test, c, solver, multi_class)"
   ]
  },
  {
   "cell_type": "markdown",
   "metadata": {},
   "source": [
    "### Recursive elimination with best params - PCA"
   ]
  },
  {
   "cell_type": "code",
   "execution_count": null,
   "metadata": {},
   "outputs": [],
   "source": [
    "re_pca = LogisticRegression(C=1.0, multi_class='ovr', solver='newton-cg')\n",
    "recursive_elimination(re_pca, X_train_pca, y_train)"
   ]
  },
  {
   "cell_type": "markdown",
   "metadata": {},
   "source": [
    "### Elimination params and gs again - PCA"
   ]
  },
  {
   "cell_type": "code",
   "execution_count": null,
   "metadata": {},
   "outputs": [],
   "source": [
    "X_pca = X_train_pca[:,[0,1,2,5,6,7,8]]\n",
    "X_te_pca = X_test_pca[:,[0,1,2,5,6,7,8]]\n",
    "grid_search(X_pca, y_train, X_te_pca, y_test, c, solver, multi_class)"
   ]
  },
  {
   "cell_type": "markdown",
   "metadata": {},
   "source": [
    "### Learning curve with best params - PCA"
   ]
  },
  {
   "cell_type": "code",
   "execution_count": null,
   "metadata": {},
   "outputs": [],
   "source": [
    "pca_cla_1 = Pipeline([('scl', StandardScaler()),\n",
    "                ('clf', LogisticRegression(C=0.1, multi_class='multinomial', solver='newton-cg'))])\n",
    "\n",
    "plot_learning_curve(pca_cla_1, X_pca, y_train)"
   ]
  },
  {
   "cell_type": "markdown",
   "metadata": {},
   "source": [
    "### Submission - PCA"
   ]
  },
  {
   "cell_type": "code",
   "execution_count": null,
   "metadata": {},
   "outputs": [],
   "source": [
    "stdsc_2 = StandardScaler()\n",
    "X_stand_2 = stdsc_2.fit_transform(X)\n",
    "pca_2 = PCA()\n",
    "X_pca_all = pca_2.fit_transform(X_stand_2)\n",
    "pca_cla_1.fit(X_pca_all, y)\n",
    "\n",
    "X_std_sub_pca = stdsc_2.transform(X_submission)\n",
    "X_pca_sub = pca_2.transform(X_std_sub_pca)\n",
    "\n",
    "predict_pca = class_le.inverse_transform(pca_cla_1.predict(X_pca_sub))\n",
    "pd.Series(predict_pca, index=X_submission.index, name='type').to_csv('lr_pca.csv', header=True, index_label='id')"
   ]
  },
  {
   "cell_type": "markdown",
   "metadata": {},
   "source": [
    "### AdaBoost - PCA"
   ]
  },
  {
   "cell_type": "code",
   "execution_count": null,
   "metadata": {},
   "outputs": [],
   "source": [
    "pca_cla_2 = LogisticRegression(C=0.1, multi_class='multinomial', solver='newton-cg')\n",
    "\n",
    "ada_boost_pca = AdaBoostClassifier(base_estimator=pca_cla_2, n_estimators=10, random_state=1)\n",
    "stratified_k_fold_val(ada_boost_pca, X_pca, y_train)\n",
    "\n",
    "ada_boost_pca.fit(X_pca, y_train)\n",
    "print('test set score:', ada_boost_pca.score(X_te_pca, y_test))"
   ]
  },
  {
   "cell_type": "markdown",
   "metadata": {},
   "source": [
    "## LDA\n",
    "\n",
    "### Grid search - LDA"
   ]
  },
  {
   "cell_type": "code",
   "execution_count": null,
   "metadata": {},
   "outputs": [],
   "source": [
    "grid_search(X_train_lda, y_train, X_test_lda, y_test, c, solver, multi_class)"
   ]
  },
  {
   "cell_type": "markdown",
   "metadata": {},
   "source": [
    "### Recursive elimination with best params - LDA"
   ]
  },
  {
   "cell_type": "code",
   "execution_count": null,
   "metadata": {},
   "outputs": [],
   "source": [
    "re_lda = LogisticRegression(C=10, multi_class='multinomial', solver='newton-cg')\n",
    "recursive_elimination(re_lda, X_train_lda, y_train)"
   ]
  },
  {
   "cell_type": "markdown",
   "metadata": {},
   "source": [
    "### Elimination params and gs again - LDA"
   ]
  },
  {
   "cell_type": "code",
   "execution_count": null,
   "metadata": {},
   "outputs": [],
   "source": [
    "X_lda = X_train_lda\n",
    "X_te_lda = X_test_lda\n",
    "grid_search(X_lda, y_train, X_te_lda, y_test, c, solver, multi_class)"
   ]
  },
  {
   "cell_type": "markdown",
   "metadata": {},
   "source": [
    "### Learning curve with best params - LDA"
   ]
  },
  {
   "cell_type": "code",
   "execution_count": null,
   "metadata": {},
   "outputs": [],
   "source": [
    "lda = Pipeline([('scl', StandardScaler()),\n",
    "                ('clf', LogisticRegression(C=10, multi_class='multinomial', solver='newton-cg'))])\n",
    "\n",
    "plot_learning_curve(lda, X_lda, y_train)"
   ]
  },
  {
   "cell_type": "markdown",
   "metadata": {},
   "source": [
    "### Submission - LDA"
   ]
  },
  {
   "cell_type": "code",
   "execution_count": null,
   "metadata": {},
   "outputs": [],
   "source": [
    "stdsc_3 = StandardScaler()\n",
    "X_stand_3 = stdsc_3.fit_transform(X)\n",
    "\n",
    "lda_2 = LDA()\n",
    "X_lda_all = lda_2.fit_transform(X_stand_3, y)\n",
    "lda.fit(X_lda_all, y)\n",
    "\n",
    "X_std_sub_lda = stdsc_3.transform(X_submission)\n",
    "X_lda_sub = lda_2.transform(X_std_sub_lda)\n",
    "\n",
    "predict_lda = class_le.inverse_transform(lda.predict(X_lda_sub))\n",
    "pd.Series(predict_lda, index=X_submission.index, name='type').to_csv('lr_lda.csv', header=True, index_label='id')"
   ]
  },
  {
   "cell_type": "markdown",
   "metadata": {},
   "source": [
    "### AdaBoost - LDA"
   ]
  },
  {
   "cell_type": "code",
   "execution_count": null,
   "metadata": {},
   "outputs": [],
   "source": [
    "lda_cla_2 = LogisticRegression(C=10, multi_class='multinomial', solver='newton-cg')\n",
    "\n",
    "ada_boost_lda = AdaBoostClassifier(base_estimator=lda_cla_2, n_estimators=10, random_state=1)\n",
    "stratified_k_fold_val(ada_boost_lda, X_lda, y_train)\n",
    "\n",
    "ada_boost_lda.fit(X_lda, y_train)\n",
    "print('test set score:', ada_boost_lda.score(X_te_lda, y_test))"
   ]
  },
  {
   "cell_type": "code",
   "execution_count": null,
   "metadata": {},
   "outputs": [],
   "source": []
  }
 ],
 "metadata": {
  "kernelspec": {
   "display_name": "Python 3",
   "language": "python",
   "name": "python3"
  },
  "language_info": {
   "codemirror_mode": {
    "name": "ipython",
    "version": 3
   },
   "file_extension": ".py",
   "mimetype": "text/x-python",
   "name": "python",
   "nbconvert_exporter": "python",
   "pygments_lexer": "ipython3",
   "version": "3.6.5"
  }
 },
 "nbformat": 4,
 "nbformat_minor": 2
}
